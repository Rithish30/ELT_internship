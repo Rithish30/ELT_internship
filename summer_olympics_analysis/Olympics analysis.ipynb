{
 "cells": [
  {
   "cell_type": "code",
   "execution_count": 1,
   "id": "0eeada02",
   "metadata": {},
   "outputs": [],
   "source": [
    "import pandas as pd\n",
    "import numpy as np\n",
    "import matplotlib.pyplot as plt"
   ]
  },
  {
   "cell_type": "code",
   "execution_count": 2,
   "id": "8d3a001f",
   "metadata": {},
   "outputs": [],
   "source": [
    "df = pd.read_csv(\"summer.csv.txt\")"
   ]
  },
  {
   "cell_type": "code",
   "execution_count": 3,
   "id": "5c8fd4ec",
   "metadata": {},
   "outputs": [
    {
     "data": {
      "text/html": [
       "<div>\n",
       "<style scoped>\n",
       "    .dataframe tbody tr th:only-of-type {\n",
       "        vertical-align: middle;\n",
       "    }\n",
       "\n",
       "    .dataframe tbody tr th {\n",
       "        vertical-align: top;\n",
       "    }\n",
       "\n",
       "    .dataframe thead th {\n",
       "        text-align: right;\n",
       "    }\n",
       "</style>\n",
       "<table border=\"1\" class=\"dataframe\">\n",
       "  <thead>\n",
       "    <tr style=\"text-align: right;\">\n",
       "      <th></th>\n",
       "      <th>Year</th>\n",
       "      <th>City</th>\n",
       "      <th>Sport</th>\n",
       "      <th>Discipline</th>\n",
       "      <th>Athlete</th>\n",
       "      <th>Country</th>\n",
       "      <th>Gender</th>\n",
       "      <th>Event</th>\n",
       "      <th>Medal</th>\n",
       "    </tr>\n",
       "  </thead>\n",
       "  <tbody>\n",
       "    <tr>\n",
       "      <th>0</th>\n",
       "      <td>1896</td>\n",
       "      <td>Athens</td>\n",
       "      <td>Aquatics</td>\n",
       "      <td>Swimming</td>\n",
       "      <td>HAJOS, Alfred</td>\n",
       "      <td>HUN</td>\n",
       "      <td>Men</td>\n",
       "      <td>100M Freestyle</td>\n",
       "      <td>Gold</td>\n",
       "    </tr>\n",
       "    <tr>\n",
       "      <th>1</th>\n",
       "      <td>1896</td>\n",
       "      <td>Athens</td>\n",
       "      <td>Aquatics</td>\n",
       "      <td>Swimming</td>\n",
       "      <td>HERSCHMANN, Otto</td>\n",
       "      <td>AUT</td>\n",
       "      <td>Men</td>\n",
       "      <td>100M Freestyle</td>\n",
       "      <td>Silver</td>\n",
       "    </tr>\n",
       "    <tr>\n",
       "      <th>2</th>\n",
       "      <td>1896</td>\n",
       "      <td>Athens</td>\n",
       "      <td>Aquatics</td>\n",
       "      <td>Swimming</td>\n",
       "      <td>DRIVAS, Dimitrios</td>\n",
       "      <td>GRE</td>\n",
       "      <td>Men</td>\n",
       "      <td>100M Freestyle For Sailors</td>\n",
       "      <td>Bronze</td>\n",
       "    </tr>\n",
       "    <tr>\n",
       "      <th>3</th>\n",
       "      <td>1896</td>\n",
       "      <td>Athens</td>\n",
       "      <td>Aquatics</td>\n",
       "      <td>Swimming</td>\n",
       "      <td>MALOKINIS, Ioannis</td>\n",
       "      <td>GRE</td>\n",
       "      <td>Men</td>\n",
       "      <td>100M Freestyle For Sailors</td>\n",
       "      <td>Gold</td>\n",
       "    </tr>\n",
       "    <tr>\n",
       "      <th>4</th>\n",
       "      <td>1896</td>\n",
       "      <td>Athens</td>\n",
       "      <td>Aquatics</td>\n",
       "      <td>Swimming</td>\n",
       "      <td>CHASAPIS, Spiridon</td>\n",
       "      <td>GRE</td>\n",
       "      <td>Men</td>\n",
       "      <td>100M Freestyle For Sailors</td>\n",
       "      <td>Silver</td>\n",
       "    </tr>\n",
       "  </tbody>\n",
       "</table>\n",
       "</div>"
      ],
      "text/plain": [
       "   Year    City     Sport Discipline             Athlete Country Gender  \\\n",
       "0  1896  Athens  Aquatics   Swimming       HAJOS, Alfred     HUN    Men   \n",
       "1  1896  Athens  Aquatics   Swimming    HERSCHMANN, Otto     AUT    Men   \n",
       "2  1896  Athens  Aquatics   Swimming   DRIVAS, Dimitrios     GRE    Men   \n",
       "3  1896  Athens  Aquatics   Swimming  MALOKINIS, Ioannis     GRE    Men   \n",
       "4  1896  Athens  Aquatics   Swimming  CHASAPIS, Spiridon     GRE    Men   \n",
       "\n",
       "                        Event   Medal  \n",
       "0              100M Freestyle    Gold  \n",
       "1              100M Freestyle  Silver  \n",
       "2  100M Freestyle For Sailors  Bronze  \n",
       "3  100M Freestyle For Sailors    Gold  \n",
       "4  100M Freestyle For Sailors  Silver  "
      ]
     },
     "execution_count": 3,
     "metadata": {},
     "output_type": "execute_result"
    }
   ],
   "source": [
    "df.head()"
   ]
  },
  {
   "cell_type": "markdown",
   "id": "f4f28993",
   "metadata": {},
   "source": [
    "# 1. In how many cities Summer Olympics is held so far?"
   ]
  },
  {
   "cell_type": "code",
   "execution_count": 4,
   "id": "33019914",
   "metadata": {},
   "outputs": [
    {
     "name": "stdout",
     "output_type": "stream",
     "text": [
      "22\n",
      "['Athens', 'Paris', 'St Louis', 'London', 'Stockholm', 'Antwerp', 'Amsterdam', 'Los Angeles', 'Berlin', 'Helsinki', 'Melbourne / Stockholm', 'Rome', 'Tokyo', 'Mexico', 'Munich', 'Montreal', 'Moscow', 'Seoul', 'Barcelona', 'Atlanta', 'Sydney', 'Beijing']\n"
     ]
    }
   ],
   "source": [
    "number_of_cities=0\n",
    "cities=[]\n",
    "for city in df[\"City\"].unique():\n",
    "    number_of_cities+=1\n",
    "    cities.append(city)\n",
    "print(number_of_cities)\n",
    "print(cities)"
   ]
  },
  {
   "cell_type": "markdown",
   "id": "2ab9a8ce",
   "metadata": {},
   "source": [
    "# 2.Which sport is having most number of gold medals so far?(Top-5)"
   ]
  },
  {
   "cell_type": "code",
   "execution_count": 5,
   "id": "5f503adb",
   "metadata": {},
   "outputs": [
    {
     "name": "stderr",
     "output_type": "stream",
     "text": [
      "<ipython-input-5-17e40f603e87>:4: UserWarning: Boolean Series key will be reindexed to match DataFrame index.\n",
      "  sport_gold.append([sport, len(df[df['Sport']==sport][df[\"Medal\"]==\"Gold\" ])])\n"
     ]
    }
   ],
   "source": [
    "sport_gold = []\n",
    "\n",
    "for sport in df[\"Sport\"].unique():\n",
    "    sport_gold.append([sport, len(df[df['Sport']==sport][df[\"Medal\"]==\"Gold\" ])])\n"
   ]
  },
  {
   "cell_type": "code",
   "execution_count": 6,
   "id": "a09ac33c",
   "metadata": {},
   "outputs": [
    {
     "data": {
      "text/plain": [
       "<AxesSubplot:xlabel='sport'>"
      ]
     },
     "execution_count": 6,
     "metadata": {},
     "output_type": "execute_result"
    },
    {
     "data": {
      "image/png": "[encoded data removed]",
      "text/plain": [
       "<Figure size 720x720 with 1 Axes>"
      ]
     },
     "metadata": {
      "needs_background": "light"
     },
     "output_type": "display_data"
    }
   ],
   "source": [
    "pd.DataFrame(sport_gold,columns = ['sport','number_of_medals']).sort_values(by='number_of_medals', ascending=False).head().plot(x = 'sport', y = 'number_of_medals', kind = 'bar', figsize = (10,10))"
   ]
  },
  {
   "cell_type": "markdown",
   "id": "e13c6e8d",
   "metadata": {},
   "source": [
    "# 3. Which sport is having most number of medals so far?(Top-5)"
   ]
  },
  {
   "cell_type": "code",
   "execution_count": 7,
   "id": "adc9eebd",
   "metadata": {},
   "outputs": [],
   "source": [
    "sport_medals = []\n",
    "\n",
    "for sport in df[\"Sport\"].unique():\n",
    "    sport_medals.append([sport, len(df[df['Sport']==sport])])"
   ]
  },
  {
   "cell_type": "code",
   "execution_count": 8,
   "id": "acd76474",
   "metadata": {},
   "outputs": [
    {
     "data": {
      "text/plain": [
       "<AxesSubplot:xlabel='sport'>"
      ]
     },
     "execution_count": 8,
     "metadata": {},
     "output_type": "execute_result"
    },
    {
     "data": {
      "image/png": "[encoded data removed]",
      "text/plain": [
       "<Figure size 720x720 with 1 Axes>"
      ]
     },
     "metadata": {
      "needs_background": "light"
     },
     "output_type": "display_data"
    }
   ],
   "source": [
    "pd.DataFrame(sport_medals,columns = ['sport','number_of_medals']).sort_values(by='number_of_medals', ascending=False).head().plot(x = 'sport', y = 'number_of_medals', kind = 'bar', figsize = (10,10))"
   ]
  },
  {
   "cell_type": "markdown",
   "id": "6891601f",
   "metadata": {},
   "source": [
    "# 4.Which player is having most number of medals so far?(Top-5)"
   ]
  },
  {
   "cell_type": "code",
   "execution_count": 9,
   "id": "95e89f5b",
   "metadata": {},
   "outputs": [],
   "source": [
    "player_medals = []\n",
    "\n",
    "for player in df[\"Athlete\"].unique():\n",
    "    player_medals.append([player, len(df[df['Athlete']==player])])"
   ]
  },
  {
   "cell_type": "code",
   "execution_count": 10,
   "id": "e0a56441",
   "metadata": {},
   "outputs": [
    {
     "data": {
      "text/plain": [
       "<AxesSubplot:xlabel='player'>"
      ]
     },
     "execution_count": 10,
     "metadata": {},
     "output_type": "execute_result"
    },
    {
     "data": {
      "image/png": "[encoded data removed]",
      "text/plain": [
       "<Figure size 720x720 with 1 Axes>"
      ]
     },
     "metadata": {
      "needs_background": "light"
     },
     "output_type": "display_data"
    }
   ],
   "source": [
    "pd.DataFrame(player_medals,columns = ['player','number_of_medals']).sort_values(by='number_of_medals', ascending=False).head().plot(x = 'player', y = 'number_of_medals', kind = 'bar', figsize = (10,10))"
   ]
  },
  {
   "cell_type": "markdown",
   "id": "b90a3be8",
   "metadata": {},
   "source": [
    "# 5.Which player is having most number of gold medals so far?(Top-5)"
   ]
  },
  {
   "cell_type": "code",
   "execution_count": 11,
   "id": "151fcb97",
   "metadata": {},
   "outputs": [
    {
     "name": "stderr",
     "output_type": "stream",
     "text": [
      "<ipython-input-11-58d57b30ad9b>:4: UserWarning: Boolean Series key will be reindexed to match DataFrame index.\n",
      "  player_golds.append([player, len(df[df['Athlete']==player][df[\"Medal\"]==\"Gold\"])])\n"
     ]
    }
   ],
   "source": [
    "player_golds = []\n",
    "\n",
    "for player in df[\"Athlete\"].unique():\n",
    "    player_golds.append([player, len(df[df['Athlete']==player][df[\"Medal\"]==\"Gold\"])])\n",
    "    \n",
    "    "
   ]
  },
  {
   "cell_type": "code",
   "execution_count": 15,
   "id": "98c12917",
   "metadata": {},
   "outputs": [
    {
     "data": {
      "text/plain": [
       "<AxesSubplot:xlabel='player'>"
      ]
     },
     "execution_count": 15,
     "metadata": {},
     "output_type": "execute_result"
    },
    {
     "data": {
      "image/png": "[encoded data removed]",
      "text/plain": [
       "<Figure size 360x360 with 1 Axes>"
      ]
     },
     "metadata": {
      "needs_background": "light"
     },
     "output_type": "display_data"
    }
   ],
   "source": [
    "pd.DataFrame(player_golds,columns = ['player','number_of_goldmedals']).sort_values(by='number_of_goldmedals', ascending=False).head().plot(x = 'player', y = 'number_of_goldmedals', kind = 'bar', figsize = (5,5))\n"
   ]
  },
  {
   "cell_type": "markdown",
   "id": "c0d4e873",
   "metadata": {},
   "source": [
    "# 6.In which yedar did India win it's first gold medal?"
   ]
  },
  {
   "cell_type": "code",
   "execution_count": 23,
   "id": "5d440f33",
   "metadata": {},
   "outputs": [
    {
     "data": {
      "text/plain": [
       "1928"
      ]
     },
     "execution_count": 23,
     "metadata": {},
     "output_type": "execute_result"
    }
   ],
   "source": [
    "indfirst=df[df[\"Medal\"]==\"Gold\"]\n",
    "min(indfirst[indfirst[\"Country\"]==\"IND\"].Year)"
   ]
  },
  {
   "cell_type": "markdown",
   "id": "84f464a9",
   "metadata": {},
   "source": [
    "# 7.Which event is most popular in terms of most number of players?(Top-5)"
   ]
  },
  {
   "cell_type": "code",
   "execution_count": 24,
   "id": "d01be17c",
   "metadata": {},
   "outputs": [],
   "source": [
    "event_players=[]\n",
    "for event in df[\"Event\"].unique():\n",
    "    event_players.append([event,len(df[df[\"Event\"]==event])])"
   ]
  },
  {
   "cell_type": "code",
   "execution_count": 25,
   "id": "dd931a03",
   "metadata": {},
   "outputs": [
    {
     "data": {
      "text/plain": [
       "<AxesSubplot:xlabel='event'>"
      ]
     },
     "execution_count": 25,
     "metadata": {},
     "output_type": "execute_result"
    },
    {
     "data": {
      "image/png": "[encoded data removed]",
      "text/plain": [
       "<Figure size 360x360 with 1 Axes>"
      ]
     },
     "metadata": {
      "needs_background": "light"
     },
     "output_type": "display_data"
    }
   ],
   "source": [
    "pd.DataFrame(event_players,columns = ['event','no_of_players']).sort_values(by='no_of_players', ascending=False).head().plot(x = 'event', y = 'no_of_players', kind = 'bar', figsize = (5,5))"
   ]
  },
  {
   "cell_type": "markdown",
   "id": "0959663a",
   "metadata": {},
   "source": [
    "# 8.Which sport is having most female Gold Medalists? (Top 5)"
   ]
  },
  {
   "cell_type": "code",
   "execution_count": 27,
   "id": "43a45f40",
   "metadata": {},
   "outputs": [
    {
     "name": "stderr",
     "output_type": "stream",
     "text": [
      "<ipython-input-27-b04553de6525>:3: UserWarning: Boolean Series key will be reindexed to match DataFrame index.\n",
      "  sport_fem.append([sport,len(df[df[\"Gender\"]==\"Women\"][df[\"Sport\"]==sport][df[\"Medal\"]==\"Gold\"])])\n"
     ]
    }
   ],
   "source": [
    "sport_fem=[]\n",
    "for sport in df[\"Sport\"].unique():\n",
    "    sport_fem.append([sport,len(df[df[\"Gender\"]==\"Women\"][df[\"Sport\"]==sport][df[\"Medal\"]==\"Gold\"])])\n"
   ]
  },
  {
   "cell_type": "code",
   "execution_count": 28,
   "id": "fde49448",
   "metadata": {},
   "outputs": [
    {
     "data": {
      "text/plain": [
       "<AxesSubplot:xlabel='sport'>"
      ]
     },
     "execution_count": 28,
     "metadata": {},
     "output_type": "execute_result"
    },
    {
     "data": {
      "image/png": "[encoded data removed]",
      "text/plain": [
       "<Figure size 360x360 with 1 Axes>"
      ]
     },
     "metadata": {
      "needs_background": "light"
     },
     "output_type": "display_data"
    }
   ],
   "source": [
    "pd.DataFrame(sport_fem,columns = ['sport','no_of_female_gold_medalists']).sort_values(by='no_of_female_gold_medalists', ascending=False).head().plot(x = 'sport', y = 'no_of_female_gold_medalists', kind = 'bar', figsize = (5,5))"
   ]
  },
  {
   "cell_type": "code",
   "execution_count": null,
   "id": "6ff98ea0",
   "metadata": {},
   "outputs": [],
   "source": []
  }
 ],
 "metadata": {
  "kernelspec": {
   "display_name": "Python 3",
   "language": "python",
   "name": "python3"
  },
  "language_info": {
   "codemirror_mode": {
    "name": "ipython",
    "version": 3
   },
   "file_extension": ".py",
   "mimetype": "text/x-python",
   "name": "python",
   "nbconvert_exporter": "python",
   "pygments_lexer": "ipython3",
   "version": "3.8.8"
  }
 },
 "nbformat": 4,
 "nbformat_minor": 5
}
